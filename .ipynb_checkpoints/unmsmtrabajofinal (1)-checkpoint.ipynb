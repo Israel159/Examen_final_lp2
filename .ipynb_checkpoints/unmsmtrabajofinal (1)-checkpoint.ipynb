{
 "cells": [
  {
   "cell_type": "markdown",
   "id": "6374793d",
   "metadata": {},
   "source": [
    "#### Parte '0' \n",
    "Empezamos nuestro código definiendo 3 objetos lista almacenados según el repositorio de la universidad escogida, en este caso San Marcos, y de la manera en que hayan guardado los ficheros de tesis."
   ]
  },
  {
   "cell_type": "code",
   "execution_count": 1,
   "id": "4e232e3b",
   "metadata": {},
   "outputs": [],
   "source": [
    "links_unmsm = [\"https://cybertesis.unmsm.edu.pe/handle/20.500.12672/129\",\"https://cybertesis.unmsm.edu.pe/handle/20.500.12672/18699\"]\n",
    "datos_requeridos = [\"dc.contributor.advisor\",\"dc.contributor.author\",\"dc.date.issued\",\"dc.description.abstract\",\"dc.publisher\",\"dc.title\",\"thesis.degree.name\"]\n",
    "datos_requeridos_2 = [\"Asesor\",\"Nombre de tesista\",\"Año de publicación\",\"Resumen\",\"Insitución\",\"Titulo de la tesis\",\"Grado\"]"
   ]
  },
  {
   "cell_type": "markdown",
   "id": "8ce977f2",
   "metadata": {},
   "source": [
    "#### Parte '1'"
   ]
  },
  {
   "cell_type": "code",
   "execution_count": 2,
   "id": "0a77215b",
   "metadata": {},
   "outputs": [
    {
     "data": {
      "text/plain": [
       "['https://cybertesis.unmsm.edu.pe/handle/20.500.12672/20864?show=full',\n",
       " 'https://cybertesis.unmsm.edu.pe/handle/20.500.12672/20700?show=full',\n",
       " 'https://cybertesis.unmsm.edu.pe/handle/20.500.12672/19977?show=full',\n",
       " 'https://cybertesis.unmsm.edu.pe/handle/20.500.12672/19549?show=full',\n",
       " 'https://cybertesis.unmsm.edu.pe/handle/20.500.12672/19372?show=full',\n",
       " 'https://cybertesis.unmsm.edu.pe/handle/20.500.12672/19351?show=full',\n",
       " 'https://cybertesis.unmsm.edu.pe/handle/20.500.12672/18699?show=full',\n",
       " 'https://cybertesis.unmsm.edu.pe/handle/20.500.12672/18698?show=full',\n",
       " 'https://cybertesis.unmsm.edu.pe/handle/20.500.12672/18037?show=full',\n",
       " 'https://cybertesis.unmsm.edu.pe/handle/20.500.12672/17304?show=full',\n",
       " 'https://cybertesis.unmsm.edu.pe/handle/20.500.12672/17060?show=full',\n",
       " 'https://cybertesis.unmsm.edu.pe/handle/20.500.12672/16679?show=full',\n",
       " 'https://cybertesis.unmsm.edu.pe/handle/20.500.12672/16552?show=full',\n",
       " 'https://cybertesis.unmsm.edu.pe/handle/20.500.12672/16433?show=full',\n",
       " 'https://cybertesis.unmsm.edu.pe/handle/20.500.12672/16064?show=full',\n",
       " 'https://cybertesis.unmsm.edu.pe/handle/20.500.12672/15478?show=full',\n",
       " 'https://cybertesis.unmsm.edu.pe/handle/20.500.12672/15474?show=full',\n",
       " 'https://cybertesis.unmsm.edu.pe/handle/20.500.12672/10776?show=full',\n",
       " 'https://cybertesis.unmsm.edu.pe/handle/20.500.12672/10349?show=full',\n",
       " 'https://cybertesis.unmsm.edu.pe/handle/20.500.12672/10309?show=full']"
      ]
     },
     "execution_count": 2,
     "metadata": {},
     "output_type": "execute_result"
    }
   ],
   "source": [
    "import requests\n",
    "from bs4 import BeautifulSoup\n",
    "def getTesisunmsm(links): \n",
    "  links_Tesis = [] #creamos una lista vacia\n",
    "  for link in links:\n",
    "    html =  requests.get(link).text #lo convierte a texto \n",
    "    soup = BeautifulSoup(html, 'html.parser') #nos ayuda para la extraccion de datos\n",
    "    links_Tesis.extend(list(map(lambda x: 'https://cybertesis.unmsm.edu.pe'+x.find(\"a\").get(\"href\")+'?show=full' , soup.find_all(\"h4\",class_=\"artifact-title\"))))\n",
    "    # .extend() agrega cada uno de los elementos a la lista en el orden en el que aparecen\n",
    "    # list(map(lambda x:.....,....)) es un filtro que aplica una condición a cada elemento de una lista \n",
    "    # por lo tanto nos pide que hallemos los 'a' con 'href' encontrados en los 'h4' de la class=\"artifact-title\"\n",
    "    # y que a su vez se les agregue en el incio un 'https://cybertesis.unmsm.edu.pe' y al final un '?show=full'\n",
    "  return links_Tesis\n",
    "getTesisunmsm(links_unmsm)"
   ]
  },
  {
   "cell_type": "markdown",
   "id": "9504b2d9",
   "metadata": {},
   "source": [
    "#### Parte'2'"
   ]
  },
  {
   "cell_type": "code",
   "execution_count": 3,
   "id": "a26820dc",
   "metadata": {},
   "outputs": [
    {
     "data": {
      "text/plain": [
       "{}"
      ]
     },
     "execution_count": 3,
     "metadata": {},
     "output_type": "execute_result"
    }
   ],
   "source": [
    "import requests\n",
    "#Librerías\n",
    "from bs4 import BeautifulSoup\n",
    "def getDatosDeTesis(linktesis):\n",
    "  #Comenzamos la función\n",
    "   datos = []\n",
    "   html = requests.get(linktesis).text\n",
    "   soup = BeautifulSoup(html, 'html.parser')\n",
    "   #Creamos una tabla donde buscamos los 'tr' de class_=\"ds-table-row\"\n",
    "   tabla = soup.find_all(\"tr\",class_=\"ds-table-row\")\n",
    "   for fila in tabla:\n",
    "     columnas = list(map(lambda x: x.string, fila.find_all(\"td\")))[0:2]\n",
    "      #De cada fila en tabla buscamos todos los 'td', los volvemos string y enlistamos en 'columnas'\n",
    "      #La primera columna de 'columnas' en datos\n",
    "     dato = columnas[0]\n",
    "     #Si 'dato' coincide con 'datos_requeridos' almacenar en 'datos'\n",
    "     if(dato in datos_requeridos):\n",
    "       datos.append(columnas)\n",
    "       #Nos quedamos con la primera y segunda columna de 'datos', almancenando en varios diccionarios\n",
    "   datos = [{item[0]:item[1]} for item in datos]\n",
    "   response = {}#nuevo diccionario\n",
    "   #Insertamos los diccionarios como elementos del nuevo diccionario\n",
    "   for dato in datos:\n",
    "     response.update(dato)\n",
    "     #Enlistamos los valores del diccionario 'respuesta' y los emparejamos con 'datos_requeridos_2' con zip()\n",
    "    #Se almecena todo a un nuevo diccionario 'respuesta_datos'\n",
    "   response_data = dict(zip(datos_requeridos_2,list(response.values())))\n",
    "   return response_data  #fin de la función\n",
    "getDatosDeTesis('https://cybertesis.unmsm.edu.pe//handle/20.500.12672/5144?show=full') #Probamos con un link de tesis"
   ]
  },
  {
   "cell_type": "markdown",
   "id": "504882e8",
   "metadata": {},
   "source": [
    "#### Parte 3\n",
    "Procedemos a crear un objeto con los datos de todas las tesis y convertirlo en un data frame en la extensión deseada '.csv'"
   ]
  },
  {
   "cell_type": "code",
   "execution_count": 5,
   "id": "e75814d1",
   "metadata": {},
   "outputs": [],
   "source": [
    "import pandas as pd\n",
    "#importamos la libreria pandas que nos permite extructurar los datos extraidos\n",
    "todas_tesis = []\n",
    "#creamos una lista vacia \n",
    "links_tesis_unmsm = getTesisunmsm(links_unmsm)\n",
    "#asignamos la función \n",
    "for link in links_tesis_unmsm:\n",
    "  todas_tesis.append(getDatosDeTesis(link))\n",
    "#Aplicamos la funcion creada anteriormente \"getDatosDeTesis(linktesis)\" a cada uno de los links\n",
    "df = pd.DataFrame(todas_tesis)\n",
    "#en este df hay filas que contienen solamente NaN asi que los eliminaremos\n",
    "#creamos una data frame\n",
    "df2=df.dropna() \n",
    "# con dropna() eliminamos las filas que contienen NaN\n",
    "df2.to_csv('unmsm_tesis.csv', index=False, header=True, encoding=\"utf-8\")\n",
    "#guardamos el data frame en un archivo de extension .csv "
   ]
  },
  {
   "cell_type": "markdown",
   "id": "06d9212e",
   "metadata": {},
   "source": [
    "Ahora visualicemos el df2"
   ]
  },
  {
   "cell_type": "code",
   "execution_count": 6,
   "id": "55f43953",
   "metadata": {
    "scrolled": true
   },
   "outputs": [
    {
     "data": {
      "text/html": [
       "<div>\n",
       "<style scoped>\n",
       "    .dataframe tbody tr th:only-of-type {\n",
       "        vertical-align: middle;\n",
       "    }\n",
       "\n",
       "    .dataframe tbody tr th {\n",
       "        vertical-align: top;\n",
       "    }\n",
       "\n",
       "    .dataframe thead th {\n",
       "        text-align: right;\n",
       "    }\n",
       "</style>\n",
       "<table border=\"1\" class=\"dataframe\">\n",
       "  <thead>\n",
       "    <tr style=\"text-align: right;\">\n",
       "      <th></th>\n",
       "      <th>Asesor</th>\n",
       "      <th>Nombre de tesista</th>\n",
       "      <th>Año de publicación</th>\n",
       "      <th>Resumen</th>\n",
       "      <th>Insitución</th>\n",
       "      <th>Titulo de la tesis</th>\n",
       "      <th>Grado</th>\n",
       "    </tr>\n",
       "  </thead>\n",
       "  <tbody>\n",
       "    <tr>\n",
       "      <th>0</th>\n",
       "      <td>Small Arana, Germán</td>\n",
       "      <td>Mezzich Alarcón, Juan Carlos</td>\n",
       "      <td>2023</td>\n",
       "      <td>Demuestra que la cadena perpetua, como pena in...</td>\n",
       "      <td>Universidad Nacional Mayor de San Marcos</td>\n",
       "      <td>La cadena perpetua en el Estado Social y Democ...</td>\n",
       "      <td>Doctor en Derecho y Ciencia Política</td>\n",
       "    </tr>\n",
       "    <tr>\n",
       "      <th>1</th>\n",
       "      <td>Bejar Castillo, Vilma Ruth</td>\n",
       "      <td>Arevalo Casapia, Sheyla</td>\n",
       "      <td>2023</td>\n",
       "      <td>Evalúa el desarrollo e impacto profesional del...</td>\n",
       "      <td>Universidad Nacional Mayor de San Marcos</td>\n",
       "      <td>Desarrollo e impacto profesional del curso de ...</td>\n",
       "      <td>Licenciada en Tecnología Médica en el Área de ...</td>\n",
       "    </tr>\n",
       "    <tr>\n",
       "      <th>2</th>\n",
       "      <td>Riojas Cañari, Alicia Cirila</td>\n",
       "      <td>Labra Huauya, Alessandra Faryde</td>\n",
       "      <td>2022</td>\n",
       "      <td>Define una forma de reducir el tiempo de esper...</td>\n",
       "      <td>Universidad Nacional Mayor de San Marcos</td>\n",
       "      <td>Simulación para reducir los tiempos de la tran...</td>\n",
       "      <td>Licenciada en Investigación Operativa</td>\n",
       "    </tr>\n",
       "    <tr>\n",
       "      <th>4</th>\n",
       "      <td>Machado Vicente, Joel Fernando</td>\n",
       "      <td>Rojas Camargo, Melinna Victoria</td>\n",
       "      <td>2023</td>\n",
       "      <td>Automatiza a obtención de sustentos tributario...</td>\n",
       "      <td>Universidad Nacional Mayor de San Marcos</td>\n",
       "      <td>Optimización de procesos tributarios en una en...</td>\n",
       "      <td>Ingeniera de Software</td>\n",
       "    </tr>\n",
       "  </tbody>\n",
       "</table>\n",
       "</div>"
      ],
      "text/plain": [
       "                           Asesor                Nombre de tesista  \\\n",
       "0             Small Arana, Germán     Mezzich Alarcón, Juan Carlos   \n",
       "1      Bejar Castillo, Vilma Ruth          Arevalo Casapia, Sheyla   \n",
       "2    Riojas Cañari, Alicia Cirila  Labra Huauya, Alessandra Faryde   \n",
       "4  Machado Vicente, Joel Fernando  Rojas Camargo, Melinna Victoria   \n",
       "\n",
       "  Año de publicación                                            Resumen  \\\n",
       "0               2023  Demuestra que la cadena perpetua, como pena in...   \n",
       "1               2023  Evalúa el desarrollo e impacto profesional del...   \n",
       "2               2022  Define una forma de reducir el tiempo de esper...   \n",
       "4               2023  Automatiza a obtención de sustentos tributario...   \n",
       "\n",
       "                                 Insitución  \\\n",
       "0  Universidad Nacional Mayor de San Marcos   \n",
       "1  Universidad Nacional Mayor de San Marcos   \n",
       "2  Universidad Nacional Mayor de San Marcos   \n",
       "4  Universidad Nacional Mayor de San Marcos   \n",
       "\n",
       "                                  Titulo de la tesis  \\\n",
       "0  La cadena perpetua en el Estado Social y Democ...   \n",
       "1  Desarrollo e impacto profesional del curso de ...   \n",
       "2  Simulación para reducir los tiempos de la tran...   \n",
       "4  Optimización de procesos tributarios en una en...   \n",
       "\n",
       "                                               Grado  \n",
       "0               Doctor en Derecho y Ciencia Política  \n",
       "1  Licenciada en Tecnología Médica en el Área de ...  \n",
       "2              Licenciada en Investigación Operativa  \n",
       "4                              Ingeniera de Software  "
      ]
     },
     "execution_count": 6,
     "metadata": {},
     "output_type": "execute_result"
    }
   ],
   "source": [
    "df2"
   ]
  }
 ],
 "metadata": {
  "kernelspec": {
   "display_name": "Python 3 (ipykernel)",
   "language": "python",
   "name": "python3"
  },
  "language_info": {
   "codemirror_mode": {
    "name": "ipython",
    "version": 3
   },
   "file_extension": ".py",
   "mimetype": "text/x-python",
   "name": "python",
   "nbconvert_exporter": "python",
   "pygments_lexer": "ipython3",
   "version": "3.11.5"
  }
 },
 "nbformat": 4,
 "nbformat_minor": 5
}
